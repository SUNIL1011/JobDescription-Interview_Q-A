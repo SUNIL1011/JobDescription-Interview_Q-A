{
 "cells": [
  {
   "cell_type": "code",
   "execution_count": 147,
   "metadata": {},
   "outputs": [],
   "source": [
    "from typing_extensions import Literal\n",
    "from pydantic import BaseModel, Field\n",
    "from langchain_core.messages import HumanMessage, SystemMessage\n",
    "from typing_extensions import TypedDict\n",
    "import os\n",
    "from langgraph.graph import StateGraph, START, END\n",
    "from IPython.display import Image, display\n",
    "from IPython.display import Markdown"
   ]
  },
  {
   "cell_type": "code",
   "execution_count": 148,
   "metadata": {},
   "outputs": [
    {
     "data": {
      "text/plain": [
       "AIMessage(content='Hello! How can I assist you today?', additional_kwargs={}, response_metadata={'token_usage': {'completion_tokens': 10, 'prompt_tokens': 30, 'total_tokens': 40, 'completion_time': 0.05, 'prompt_time': 0.003756949, 'queue_time': 0.23460452999999998, 'total_time': 0.053756949}, 'model_name': 'qwen-2.5-32b', 'system_fingerprint': 'fp_35f92f8282', 'finish_reason': 'stop', 'logprobs': None}, id='run-36ae7e11-7217-4410-b0aa-298f77d87eb6-0', usage_metadata={'input_tokens': 30, 'output_tokens': 10, 'total_tokens': 40})"
      ]
     },
     "execution_count": 148,
     "metadata": {},
     "output_type": "execute_result"
    }
   ],
   "source": [
    "os.environ[\"GROQ_API_KEY\"]=os.getenv(\"GROQ_API_KEY\")\n",
    "import os\n",
    "from dotenv import load_dotenv\n",
    "load_dotenv()\n",
    "\n",
    "from langchain_groq import ChatGroq\n",
    "\n",
    "\n",
    "llm=ChatGroq(model=\"qwen-2.5-32b\")\n",
    "#llm = ChatOpenAI(model=\"gpt-4o\")\n",
    "result=llm.invoke(\"Hello\")\n",
    "result"
   ]
  },
  {
   "cell_type": "code",
   "execution_count": 149,
   "metadata": {},
   "outputs": [],
   "source": [
    "# Graph state\n",
    "class State(TypedDict):\n",
    "    role: str\n",
    "    job_description : str\n",
    "    improved_job_description: str\n",
    "    final_job_description: str\n",
    "    final_interview_questions :str\n",
    "    "
   ]
  },
  {
   "cell_type": "code",
   "execution_count": 150,
   "metadata": {},
   "outputs": [],
   "source": [
    "# Nodes\n",
    "def generate_job_description(state: State):\n",
    "    \"\"\"First LLM call to generate initial job description\"\"\"\n",
    "\n",
    "    msg = llm.invoke(f\"Write a job description on the {state['role']}\")\n",
    "    return {\"job_description\": msg.content}\n",
    "\n",
    "def check_skills(state: State):\n",
    "    \"\"\"Gate function to check if the role has relavent skills\"\"\"\n",
    "\n",
    "    # Simple check - does the job description  contains \"Google\" or \"GCP\"\n",
    "    if \"Google\" in state[\"role\"] or \"GCP\" in state[\"role\"]:\n",
    "        return \"Pass\"\n",
    "    return \"Fail\"\n",
    "\n",
    "def improve_job_description(state: State):\n",
    "    \"\"\"Second LLM call to improve the job description\"\"\"\n",
    "\n",
    "    msg = llm.invoke(f\"Make this by job description relavent adding Google, GCP and other Google tools: {state['role']}\")\n",
    "    return {\"improved_job_description\": msg.content}\n",
    "\n",
    "def polish_job_description(state: State):\n",
    "    \"\"\"Third LLM call for final grammatical check\"\"\"\n",
    "\n",
    "    msg = llm.invoke(f\"Add a grammatical check to this job description: {state['improved_job_description']}\")\n",
    "    return {\"final_job_description\": msg.content}"
   ]
  },
  {
   "cell_type": "code",
   "execution_count": 162,
   "metadata": {},
   "outputs": [],
   "source": [
    "def final_job_interview(state: State):\n",
    "    \"\"\"Fourth LLM call for interview questions\"\"\"\n",
    "\n",
    "    msg = llm.invoke(f\"Create a set of interview questions and expected answers based on the: {state['final_job_description']}\")\n",
    "    return {\"final_interview_questions\": msg.content}"
   ]
  },
  {
   "cell_type": "code",
   "execution_count": 163,
   "metadata": {},
   "outputs": [
    {
     "data": {
      "text/plain": [
       "<langgraph.graph.state.StateGraph at 0x2d425c0a030>"
      ]
     },
     "execution_count": 163,
     "metadata": {},
     "output_type": "execute_result"
    }
   ],
   "source": [
    "workflow = StateGraph(State)\n",
    "\n",
    "# Add nodes\n",
    "workflow.add_node(\"generate_job_description\", generate_job_description)\n",
    "workflow.add_node(\"improve_job_description\", improve_job_description)\n",
    "workflow.add_node(\"polish_job_description\", polish_job_description)\n",
    "workflow.add_node(\"final_job_interview\", final_job_interview)\n",
    "\n",
    "# Add edges to connect nodes\n",
    "workflow.add_edge(START, \"generate_job_description\")\n",
    "workflow.add_conditional_edges(\"generate_job_description\",check_skills,{\"Fail\":\"improve_job_description\",\"Pass\":END})\n",
    "workflow.add_edge(\"improve_job_description\", \"polish_job_description\")\n",
    "workflow.add_edge(\"polish_job_description\", \"final_job_interview\")\n",
    "workflow.add_edge(\"final_job_interview\", END)\n",
    "\n"
   ]
  },
  {
   "cell_type": "code",
   "execution_count": 164,
   "metadata": {},
   "outputs": [
    {
     "data": {
      "image/png": "[encoded data removed]",
      "text/plain": [
       "<IPython.core.display.Image object>"
      ]
     },
     "metadata": {},
     "output_type": "display_data"
    }
   ],
   "source": [
    "# Compile\n",
    "chain = workflow.compile()\n",
    "\n",
    "# Show workflow\n",
    "display(Image(chain.get_graph().draw_mermaid_png()))"
   ]
  },
  {
   "cell_type": "code",
   "execution_count": 165,
   "metadata": {},
   "outputs": [],
   "source": [
    "state = chain.invoke({\"role\": \"ML Engineer\"})"
   ]
  },
  {
   "cell_type": "code",
   "execution_count": 166,
   "metadata": {},
   "outputs": [
    {
     "data": {
      "text/markdown": [
       "Based on the job description provided, here is a set of interview questions and expected answers for the position of Machine Learning Engineer (Google Cloud Platform Focus):\n",
       "\n",
       "**Interview Questions:**\n",
       "\n",
       "1. **Can you describe your educational background and how it prepared you for this role?**\n",
       "   - *Expected Answer*: The candidate should mention their degree in Computer Science, Mathematics, Statistics, or a related field, and how their coursework or projects have prepared them for the technical challenges of a Machine Learning Engineer.\n",
       "\n",
       "2. **What experience do you have with machine learning frameworks such as TensorFlow, Keras, and PyTorch? Can you provide an example of a project you've worked on using one of these frameworks?**\n",
       "   - *Expected Answer*: The candidate should share details about a project where they utilized one of the mentioned frameworks to develop a machine learning model, explaining the problem they were addressing, the architecture of the model, and the results they achieved.\n",
       "\n",
       "3. **How have you utilized Google Cloud Platform (GCP) in your past projects? Please provide specific examples of GCP services you have used, such as AI Platform or BigQuery.**\n",
       "   - *Expected Answer*: The candidate should detail their experience with GCP services, providing specific examples of how they have used these services to scale machine learning projects, such as deploying models on AI Platform, or working with large datasets in BigQuery.\n",
       "\n",
       "4. **Can you explain your approach to designing and implementing data ingestion, processing, and transformation pipelines? How have you used tools like Google Cloud Storage, BigQuery, and Dataflow in these processes?**\n",
       "   - *Expected Answer*: The candidate should outline their process for setting up and managing data pipelines and should discuss their experience with GCP tools, emphasizing their role in ensuring data quality and efficiency.\n",
       "\n",
       "5. **How do you stay updated with the latest advancements in machine learning and cloud technologies? Can you provide an example of a recent technology or technique you learned and implemented?**\n",
       "   - *Expected Answer*: The candidate should discuss their methods for staying current, such as following tech blogs, attending seminars, or participating in online courses. They should also provide a concrete example of a new technology or technique they have adopted in their work.\n",
       "\n",
       "6. **How do you ensure the performance and scalability of deployed machine learning models? What monitoring and maintenance tools have you used?**\n",
       "   - *Expected Answer*: The candidate should explain their strategies for monitoring model performance and the specific tools they use, such as Google Cloud Monitoring, to ensure that models are performing optimally and can scale with increasing data or user load.\n",
       "\n",
       "7. **Can you describe a situation where you had to explain a complex technical concept to non-technical stakeholders? How did you approach this communication?**\n",
       "   - *Expected Answer*: The candidate should provide an example of a meeting or presentation where they simplified technical information for a non-technical audience. They should discuss their communication style and any visual aids or analogies used.\n",
       "\n",
       "8. **What experience do you have with MLOps practices and tools? How do you think these can streamline the machine learning lifecycle?**\n",
       "   - *Expected Answer*: The candidate should discuss their experience with MLOps, including tools they have used, and explain how these practices can make the development, deployment, and maintenance of machine learning models more efficient and scalable.\n",
       "\n",
       "9. **Given your experience with Google Cloud, how do you think it can be leveraged to solve the business objectives of [Company Name]?**\n",
       "   - *Expected Answer*: The candidate should demonstrate their understanding of the company’s business challenges and how GCP services can be used to address these, showing a strategic mindset and alignment with the company’s goals.\n",
       "\n",
       "10. **Can you discuss your experience with Kubernetes and containerization technologies, particularly in the context of deploying machine learning models?**\n",
       "    - *Expected Answer*: The candidate should provide details about their experience with Kubernetes and containerization, explaining how these technologies are used in deploying machine learning models to ensure scalability, resilience, and efficiency.\n",
       "\n",
       "These questions aim to assess the candidate's technical skills, problem-solving abilities, and their capacity to integrate machine learning solutions with cloud services, particularly within the GCP ecosystem."
      ],
      "text/plain": [
       "<IPython.core.display.Markdown object>"
      ]
     },
     "execution_count": 166,
     "metadata": {},
     "output_type": "execute_result"
    }
   ],
   "source": [
    "Markdown(state[\"final_interview_questions\"])"
   ]
  },
  {
   "cell_type": "code",
   "execution_count": 167,
   "metadata": {},
   "outputs": [
    {
     "data": {
      "text/markdown": [
       "Here is the revised job description with grammatical corrections:\n",
       "\n",
       "**Job Title: Machine Learning Engineer (Google Cloud Platform Focus)**\n",
       "\n",
       "**Company Overview:**\n",
       "[Company Name] is a leading innovator in [industry/field], dedicated to harnessing the power of technology to solve complex challenges. We are currently seeking a highly skilled Machine Learning Engineer to join our dynamic and collaborative team. In this role, you will be working closely with the development team and data scientists to design, develop, and implement machine learning models and solutions, leveraging Google Cloud Platform (GCP) and other Google tools.\n",
       "\n",
       "**Job Responsibilities:**\n",
       "\n",
       "- Design, develop, and deploy machine learning models and algorithms that meet specific business objectives and needs.\n",
       "- Utilize Google Cloud Platform (GCP) services such as Google Cloud AI Platform, TensorFlow, and Cloud Dataflow to build scalable and robust solutions.\n",
       "- Collaborate with cross-functional teams to identify areas for automation and optimization through the use of machine learning and data analytics.\n",
       "- Implement and maintain pipelines for data ingestion, processing, and transformation using Google Cloud Storage, BigQuery, and Dataflow.\n",
       "- Monitor, maintain, and improve the performance of deployed models through continuous evaluation and retraining, utilizing Google Cloud Monitoring and other tools.\n",
       "- Stay updated with the latest advancements in machine learning and cloud technologies, and apply relevant techniques to improve our products and services.\n",
       "- Contribute to the development and implementation of best practices for machine learning projects and operations.\n",
       "\n",
       "**Qualifications:**\n",
       "\n",
       "- A Bachelor’s or Master’s degree in Computer Science, Mathematics, Statistics, or a related quantitative field.\n",
       "- Proficiency in Python and experience with machine learning frameworks such as TensorFlow, Keras, and PyTorch.\n",
       "- Hands-on experience with Google Cloud Platform (GCP), including AI Platform, BigQuery, Dataflow, and other GCP services.\n",
       "- Strong understanding of data structures, algorithms, and computer science fundamentals.\n",
       "- Experience with cloud computing and distributed systems, with a focus on GCP.\n",
       "- Knowledge of data modeling, SQL, and data analysis techniques.\n",
       "- Excellent problem-solving skills and the ability to work independently as well as in a team setting.\n",
       "- Strong communication and collaboration skills, with the ability to explain complex technical concepts to non-technical stakeholders.\n",
       "\n",
       "**Preferred Qualifications:**\n",
       "\n",
       "- Experience with Google Cloud BigQuery ML for creating and deploying machine learning models directly on BigQuery data.\n",
       "- Familiarity with Kubernetes and containerization technologies for deploying machine learning models at scale.\n",
       "- Knowledge of machine learning model deployment and management tools such as Google Cloud AI Platform Model Management.\n",
       "- Experience with MLOps practices and tools to streamline the machine learning lifecycle.\n",
       "- A portfolio or project examples that demonstrate the application of machine learning models and GCP services.\n",
       "\n",
       "**What We Offer:**\n",
       "\n",
       "- A competitive salary and benefits package.\n",
       "- Opportunities for professional growth and learning.\n",
       "- A dynamic and collaborative work environment.\n",
       "- Access to state-of-the-art tools and technologies, including the full suite of Google Cloud services.\n",
       "- The chance to work on cutting-edge projects that have a significant impact.\n",
       "\n",
       "If you are passionate about leveraging machine learning and cloud technologies to drive innovation, we would love to hear from you. Apply today to join a team that values creativity, collaboration, and excellence.\n",
       "\n",
       "The text has been corrected for grammatical consistency and clarity."
      ],
      "text/plain": [
       "<IPython.core.display.Markdown object>"
      ]
     },
     "execution_count": 167,
     "metadata": {},
     "output_type": "execute_result"
    }
   ],
   "source": [
    "Markdown(state['final_job_description'])"
   ]
  },
  {
   "cell_type": "code",
   "execution_count": 158,
   "metadata": {},
   "outputs": [
    {
     "data": {
      "text/markdown": [
       "Job Title: Google Cloud Platform (GCP) Data Analyst\n",
       "\n",
       "Job Summary:\n",
       "We are seeking a talented and detail-oriented Google Cloud Platform (GCP) Data Analyst to join our dynamic team. The ideal candidate will have a deep understanding of Google's suite of tools and services, particularly within the GCP ecosystem. The role involves leveraging GCP and other Google tools to extract meaningful insights from large datasets, enabling data-driven decision-making within the organization.\n",
       "\n",
       "Responsibilities:\n",
       "- Utilize Google Cloud Platform (GCP) services, including BigQuery, Dataflow, and Cloud Storage, to manage and analyze large datasets.\n",
       "- Develop and maintain data models, utilizing Google’s BigQuery for advanced analytics and to support business intelligence needs.\n",
       "- Create and update dashboards and reports using Google Data Studio to visualize data and insights.\n",
       "- Collaborate with cross-functional teams to understand data requirements and provide actionable insights.\n",
       "- Implement data pipelines using Google Cloud Dataflow to automate data processing and integration.\n",
       "- Work with Google Sheets and Google Workspace to streamline data management and collaboration processes.\n",
       "- Contribute to the design and development of machine learning models using TensorFlow and other GCP AI/ML services.\n",
       "- Evaluate and optimize data processing workflows to ensure efficiency and scalability within GCP.\n",
       "- Provide training and support to team members on the effective use of Google’s data analysis tools and platforms.\n",
       "\n",
       "Requirements:\n",
       "- Bachelor’s degree in Computer Science, Mathematics, Statistics, or a related field; a Master’s degree is a plus.\n",
       "- Proven experience as a Data Analyst with a strong background in Google Cloud Platform (GCP).\n",
       "- Proficiency in using BigQuery, Dataflow, and other GCP data management and analytics tools.\n",
       "- Experience with Google Data Studio for data visualization and dashboard creation.\n",
       "- Excellent knowledge of SQL for querying large datasets within GCP.\n",
       "- Experience with Python or another programming language for data manipulation and analysis.\n",
       "- Familiarity with TensorFlow and GCP’s AI/ML services for machine learning applications.\n",
       "- Strong analytical and problem-solving skills with a keen eye for detail.\n",
       "- Ability to effectively communicate complex data insights to both technical and non-technical stakeholders.\n",
       "- Excellent collaboration and teamwork skills to work closely with developers, data engineers, and other stakeholders.\n",
       "\n",
       "This role is a fantastic opportunity for someone passionate about leveraging Google’s powerful tools to drive data-driven insights and decision-making. If you have a passion for data, technology, and a desire to solve complex problems, we encourage you to apply."
      ],
      "text/plain": [
       "<IPython.core.display.Markdown object>"
      ]
     },
     "execution_count": 158,
     "metadata": {},
     "output_type": "execute_result"
    }
   ],
   "source": [
    "Markdown(state['improved_job_description'])"
   ]
  }
 ],
 "metadata": {
  "kernelspec": {
   "display_name": "Python 3",
   "language": "python",
   "name": "python3"
  },
  "language_info": {
   "codemirror_mode": {
    "name": "ipython",
    "version": 3
   },
   "file_extension": ".py",
   "mimetype": "text/x-python",
   "name": "python",
   "nbconvert_exporter": "python",
   "pygments_lexer": "ipython3",
   "version": "3.12.0"
  }
 },
 "nbformat": 4,
 "nbformat_minor": 2
}
